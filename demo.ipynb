{
 "cells": [
  {
   "cell_type": "markdown",
   "metadata": {},
   "source": [
    "# NebulaGraph Property Graph Index\n",
    "\n",
    "NebulaGraph is an open-source distributed graph database built for super large-scale graphs with milliseconds of latency.\n",
    "\n",
    "If you already have an existing graph, please skip to the end of this notebook."
   ]
  },
  {
   "cell_type": "code",
   "execution_count": 8,
   "metadata": {},
   "outputs": [
    {
     "name": "stdout",
     "output_type": "stream",
     "text": [
      "Looking in indexes: https://pypi.tuna.tsinghua.edu.cn/simple\n",
      "Requirement already satisfied: llama-index in e:\\project\\ai\\nl2sql-graph\\myenvs-graph\\lib\\site-packages (0.10.65)\n",
      "Requirement already satisfied: llama-index-graph-stores-nebula in e:\\project\\ai\\nl2sql-graph\\myenvs-graph\\lib\\site-packages (0.2.0)\n",
      "Requirement already satisfied: jupyter-nebulagraph in e:\\project\\ai\\nl2sql-graph\\myenvs-graph\\lib\\site-packages (0.14.3)\n",
      "Requirement already satisfied: nest_asyncio in e:\\project\\ai\\nl2sql-graph\\myenvs-graph\\lib\\site-packages (1.6.0)\n",
      "Requirement already satisfied: llama-index-agent-openai<0.3.0,>=0.1.4 in e:\\project\\ai\\nl2sql-graph\\myenvs-graph\\lib\\site-packages (from llama-index) (0.2.9)\n",
      "Requirement already satisfied: llama-index-cli<0.2.0,>=0.1.2 in e:\\project\\ai\\nl2sql-graph\\myenvs-graph\\lib\\site-packages (from llama-index) (0.1.13)\n",
      "Requirement already satisfied: llama-index-core<0.11.0,>=0.10.65 in e:\\project\\ai\\nl2sql-graph\\myenvs-graph\\lib\\site-packages (from llama-index) (0.10.66)\n",
      "Requirement already satisfied: llama-index-embeddings-openai<0.2.0,>=0.1.5 in e:\\project\\ai\\nl2sql-graph\\myenvs-graph\\lib\\site-packages (from llama-index) (0.1.11)\n",
      "Requirement already satisfied: llama-index-indices-managed-llama-cloud>=0.2.0 in e:\\project\\ai\\nl2sql-graph\\myenvs-graph\\lib\\site-packages (from llama-index) (0.2.7)\n",
      "Requirement already satisfied: llama-index-legacy<0.10.0,>=0.9.48 in e:\\project\\ai\\nl2sql-graph\\myenvs-graph\\lib\\site-packages (from llama-index) (0.9.48.post2)\n",
      "Requirement already satisfied: llama-index-llms-openai<0.2.0,>=0.1.27 in e:\\project\\ai\\nl2sql-graph\\myenvs-graph\\lib\\site-packages (from llama-index) (0.1.29)\n",
      "Requirement already satisfied: llama-index-multi-modal-llms-openai<0.2.0,>=0.1.3 in e:\\project\\ai\\nl2sql-graph\\myenvs-graph\\lib\\site-packages (from llama-index) (0.1.9)\n",
      "Requirement already satisfied: llama-index-program-openai<0.2.0,>=0.1.3 in e:\\project\\ai\\nl2sql-graph\\myenvs-graph\\lib\\site-packages (from llama-index) (0.1.7)\n",
      "Requirement already satisfied: llama-index-question-gen-openai<0.2.0,>=0.1.2 in e:\\project\\ai\\nl2sql-graph\\myenvs-graph\\lib\\site-packages (from llama-index) (0.1.3)\n",
      "Requirement already satisfied: llama-index-readers-file<0.2.0,>=0.1.4 in e:\\project\\ai\\nl2sql-graph\\myenvs-graph\\lib\\site-packages (from llama-index) (0.1.33)\n",
      "Requirement already satisfied: llama-index-readers-llama-parse>=0.1.2 in e:\\project\\ai\\nl2sql-graph\\myenvs-graph\\lib\\site-packages (from llama-index) (0.1.6)\n",
      "Requirement already satisfied: nebula3-python<4.0.0,>=3.8.0 in e:\\project\\ai\\nl2sql-graph\\myenvs-graph\\lib\\site-packages (from llama-index-graph-stores-nebula) (3.8.2)\n",
      "Requirement already satisfied: Jinja2 in e:\\project\\ai\\nl2sql-graph\\myenvs-graph\\lib\\site-packages (from jupyter-nebulagraph) (3.1.4)\n",
      "Requirement already satisfied: pandas in e:\\project\\ai\\nl2sql-graph\\myenvs-graph\\lib\\site-packages (from jupyter-nebulagraph) (2.2.2)\n",
      "Requirement already satisfied: tqdm in e:\\project\\ai\\nl2sql-graph\\myenvs-graph\\lib\\site-packages (from jupyter-nebulagraph) (4.66.5)\n",
      "Requirement already satisfied: pyvis in e:\\project\\ai\\nl2sql-graph\\myenvs-graph\\lib\\site-packages (from jupyter-nebulagraph) (0.3.2)\n",
      "Requirement already satisfied: requests in e:\\project\\ai\\nl2sql-graph\\myenvs-graph\\lib\\site-packages (from jupyter-nebulagraph) (2.32.3)\n",
      "Requirement already satisfied: pydantic in e:\\project\\ai\\nl2sql-graph\\myenvs-graph\\lib\\site-packages (from jupyter-nebulagraph) (2.8.2)\n",
      "Requirement already satisfied: scipy in e:\\project\\ai\\nl2sql-graph\\myenvs-graph\\lib\\site-packages (from jupyter-nebulagraph) (1.14.0)\n",
      "Requirement already satisfied: ipywidgets in e:\\project\\ai\\nl2sql-graph\\myenvs-graph\\lib\\site-packages (from jupyter-nebulagraph) (8.1.3)\n",
      "Requirement already satisfied: pyarrow in e:\\project\\ai\\nl2sql-graph\\myenvs-graph\\lib\\site-packages (from jupyter-nebulagraph) (17.0.0)\n",
      "Requirement already satisfied: openai>=1.14.0 in e:\\project\\ai\\nl2sql-graph\\myenvs-graph\\lib\\site-packages (from llama-index-agent-openai<0.3.0,>=0.1.4->llama-index) (1.41.0)\n",
      "Requirement already satisfied: PyYAML>=6.0.1 in e:\\project\\ai\\nl2sql-graph\\myenvs-graph\\lib\\site-packages (from llama-index-core<0.11.0,>=0.10.65->llama-index) (6.0.2)\n",
      "Requirement already satisfied: SQLAlchemy>=1.4.49 in e:\\project\\ai\\nl2sql-graph\\myenvs-graph\\lib\\site-packages (from SQLAlchemy[asyncio]>=1.4.49->llama-index-core<0.11.0,>=0.10.65->llama-index) (2.0.32)\n",
      "Requirement already satisfied: aiohttp<4.0.0,>=3.8.6 in e:\\project\\ai\\nl2sql-graph\\myenvs-graph\\lib\\site-packages (from llama-index-core<0.11.0,>=0.10.65->llama-index) (3.10.4)\n",
      "Requirement already satisfied: dataclasses-json in e:\\project\\ai\\nl2sql-graph\\myenvs-graph\\lib\\site-packages (from llama-index-core<0.11.0,>=0.10.65->llama-index) (0.6.7)\n",
      "Requirement already satisfied: deprecated>=1.2.9.3 in e:\\project\\ai\\nl2sql-graph\\myenvs-graph\\lib\\site-packages (from llama-index-core<0.11.0,>=0.10.65->llama-index) (1.2.14)\n",
      "Requirement already satisfied: dirtyjson<2.0.0,>=1.0.8 in e:\\project\\ai\\nl2sql-graph\\myenvs-graph\\lib\\site-packages (from llama-index-core<0.11.0,>=0.10.65->llama-index) (1.0.8)\n",
      "Requirement already satisfied: fsspec>=2023.5.0 in e:\\project\\ai\\nl2sql-graph\\myenvs-graph\\lib\\site-packages (from llama-index-core<0.11.0,>=0.10.65->llama-index) (2024.6.1)\n",
      "Requirement already satisfied: httpx in e:\\project\\ai\\nl2sql-graph\\myenvs-graph\\lib\\site-packages (from llama-index-core<0.11.0,>=0.10.65->llama-index) (0.27.0)\n",
      "Requirement already satisfied: networkx>=3.0 in e:\\project\\ai\\nl2sql-graph\\myenvs-graph\\lib\\site-packages (from llama-index-core<0.11.0,>=0.10.65->llama-index) (3.3)\n",
      "Requirement already satisfied: nltk>=3.8.1 in e:\\project\\ai\\nl2sql-graph\\myenvs-graph\\lib\\site-packages (from llama-index-core<0.11.0,>=0.10.65->llama-index) (3.8.1)\n",
      "Requirement already satisfied: numpy<2.0.0 in e:\\project\\ai\\nl2sql-graph\\myenvs-graph\\lib\\site-packages (from llama-index-core<0.11.0,>=0.10.65->llama-index) (1.26.4)\n",
      "Requirement already satisfied: pillow>=9.0.0 in e:\\project\\ai\\nl2sql-graph\\myenvs-graph\\lib\\site-packages (from llama-index-core<0.11.0,>=0.10.65->llama-index) (10.4.0)\n",
      "Requirement already satisfied: tenacity!=8.4.0,<9.0.0,>=8.2.0 in e:\\project\\ai\\nl2sql-graph\\myenvs-graph\\lib\\site-packages (from llama-index-core<0.11.0,>=0.10.65->llama-index) (8.5.0)\n",
      "Requirement already satisfied: tiktoken>=0.3.3 in e:\\project\\ai\\nl2sql-graph\\myenvs-graph\\lib\\site-packages (from llama-index-core<0.11.0,>=0.10.65->llama-index) (0.7.0)\n",
      "Requirement already satisfied: typing-extensions>=4.5.0 in e:\\project\\ai\\nl2sql-graph\\myenvs-graph\\lib\\site-packages (from llama-index-core<0.11.0,>=0.10.65->llama-index) (4.12.2)\n",
      "Requirement already satisfied: typing-inspect>=0.8.0 in e:\\project\\ai\\nl2sql-graph\\myenvs-graph\\lib\\site-packages (from llama-index-core<0.11.0,>=0.10.65->llama-index) (0.9.0)\n",
      "Requirement already satisfied: wrapt in e:\\project\\ai\\nl2sql-graph\\myenvs-graph\\lib\\site-packages (from llama-index-core<0.11.0,>=0.10.65->llama-index) (1.16.0)\n",
      "Requirement already satisfied: llama-cloud>=0.0.11 in e:\\project\\ai\\nl2sql-graph\\myenvs-graph\\lib\\site-packages (from llama-index-indices-managed-llama-cloud>=0.2.0->llama-index) (0.0.13)\n",
      "Requirement already satisfied: beautifulsoup4<5.0.0,>=4.12.3 in e:\\project\\ai\\nl2sql-graph\\myenvs-graph\\lib\\site-packages (from llama-index-readers-file<0.2.0,>=0.1.4->llama-index) (4.12.3)\n",
      "Requirement already satisfied: pypdf<5.0.0,>=4.0.1 in e:\\project\\ai\\nl2sql-graph\\myenvs-graph\\lib\\site-packages (from llama-index-readers-file<0.2.0,>=0.1.4->llama-index) (4.3.1)\n",
      "Requirement already satisfied: striprtf<0.0.27,>=0.0.26 in e:\\project\\ai\\nl2sql-graph\\myenvs-graph\\lib\\site-packages (from llama-index-readers-file<0.2.0,>=0.1.4->llama-index) (0.0.26)\n",
      "Requirement already satisfied: llama-parse>=0.4.0 in e:\\project\\ai\\nl2sql-graph\\myenvs-graph\\lib\\site-packages (from llama-index-readers-llama-parse>=0.1.2->llama-index) (0.4.9)\n",
      "Requirement already satisfied: future>=0.18.0 in e:\\project\\ai\\nl2sql-graph\\myenvs-graph\\lib\\site-packages (from nebula3-python<4.0.0,>=3.8.0->llama-index-graph-stores-nebula) (1.0.0)\n",
      "Requirement already satisfied: httplib2>=0.20.0 in e:\\project\\ai\\nl2sql-graph\\myenvs-graph\\lib\\site-packages (from nebula3-python<4.0.0,>=3.8.0->llama-index-graph-stores-nebula) (0.22.0)\n",
      "Requirement already satisfied: pytz>=2021.1 in e:\\project\\ai\\nl2sql-graph\\myenvs-graph\\lib\\site-packages (from nebula3-python<4.0.0,>=3.8.0->llama-index-graph-stores-nebula) (2024.1)\n",
      "Requirement already satisfied: six>=1.16.0 in e:\\project\\ai\\nl2sql-graph\\myenvs-graph\\lib\\site-packages (from nebula3-python<4.0.0,>=3.8.0->llama-index-graph-stores-nebula) (1.16.0)\n",
      "Requirement already satisfied: charset-normalizer<4,>=2 in e:\\project\\ai\\nl2sql-graph\\myenvs-graph\\lib\\site-packages (from requests->jupyter-nebulagraph) (3.3.2)\n",
      "Requirement already satisfied: idna<4,>=2.5 in e:\\project\\ai\\nl2sql-graph\\myenvs-graph\\lib\\site-packages (from requests->jupyter-nebulagraph) (3.7)\n",
      "Requirement already satisfied: urllib3<3,>=1.21.1 in e:\\project\\ai\\nl2sql-graph\\myenvs-graph\\lib\\site-packages (from requests->jupyter-nebulagraph) (2.2.2)\n",
      "Requirement already satisfied: certifi>=2017.4.17 in e:\\project\\ai\\nl2sql-graph\\myenvs-graph\\lib\\site-packages (from requests->jupyter-nebulagraph) (2024.7.4)\n",
      "Requirement already satisfied: colorama in e:\\project\\ai\\nl2sql-graph\\myenvs-graph\\lib\\site-packages (from tqdm->jupyter-nebulagraph) (0.4.6)\n",
      "Requirement already satisfied: comm>=0.1.3 in e:\\project\\ai\\nl2sql-graph\\myenvs-graph\\lib\\site-packages (from ipywidgets->jupyter-nebulagraph) (0.2.2)\n",
      "Requirement already satisfied: ipython>=6.1.0 in e:\\project\\ai\\nl2sql-graph\\myenvs-graph\\lib\\site-packages (from ipywidgets->jupyter-nebulagraph) (8.26.0)\n",
      "Requirement already satisfied: traitlets>=4.3.1 in e:\\project\\ai\\nl2sql-graph\\myenvs-graph\\lib\\site-packages (from ipywidgets->jupyter-nebulagraph) (5.14.3)\n",
      "Requirement already satisfied: widgetsnbextension~=4.0.11 in e:\\project\\ai\\nl2sql-graph\\myenvs-graph\\lib\\site-packages (from ipywidgets->jupyter-nebulagraph) (4.0.11)\n",
      "Requirement already satisfied: jupyterlab-widgets~=3.0.11 in e:\\project\\ai\\nl2sql-graph\\myenvs-graph\\lib\\site-packages (from ipywidgets->jupyter-nebulagraph) (3.0.11)\n",
      "Requirement already satisfied: MarkupSafe>=2.0 in e:\\project\\ai\\nl2sql-graph\\myenvs-graph\\lib\\site-packages (from Jinja2->jupyter-nebulagraph) (2.1.5)\n",
      "Requirement already satisfied: python-dateutil>=2.8.2 in e:\\project\\ai\\nl2sql-graph\\myenvs-graph\\lib\\site-packages (from pandas->jupyter-nebulagraph) (2.9.0.post0)\n",
      "Requirement already satisfied: tzdata>=2022.7 in e:\\project\\ai\\nl2sql-graph\\myenvs-graph\\lib\\site-packages (from pandas->jupyter-nebulagraph) (2024.1)\n",
      "Requirement already satisfied: annotated-types>=0.4.0 in e:\\project\\ai\\nl2sql-graph\\myenvs-graph\\lib\\site-packages (from pydantic->jupyter-nebulagraph) (0.7.0)\n",
      "Requirement already satisfied: pydantic-core==2.20.1 in e:\\project\\ai\\nl2sql-graph\\myenvs-graph\\lib\\site-packages (from pydantic->jupyter-nebulagraph) (2.20.1)\n",
      "Requirement already satisfied: jsonpickle>=1.4.1 in e:\\project\\ai\\nl2sql-graph\\myenvs-graph\\lib\\site-packages (from pyvis->jupyter-nebulagraph) (3.2.2)\n",
      "Requirement already satisfied: aiohappyeyeballs>=2.3.0 in e:\\project\\ai\\nl2sql-graph\\myenvs-graph\\lib\\site-packages (from aiohttp<4.0.0,>=3.8.6->llama-index-core<0.11.0,>=0.10.65->llama-index) (2.3.7)\n",
      "Requirement already satisfied: aiosignal>=1.1.2 in e:\\project\\ai\\nl2sql-graph\\myenvs-graph\\lib\\site-packages (from aiohttp<4.0.0,>=3.8.6->llama-index-core<0.11.0,>=0.10.65->llama-index) (1.3.1)\n",
      "Requirement already satisfied: attrs>=17.3.0 in e:\\project\\ai\\nl2sql-graph\\myenvs-graph\\lib\\site-packages (from aiohttp<4.0.0,>=3.8.6->llama-index-core<0.11.0,>=0.10.65->llama-index) (24.2.0)\n",
      "Requirement already satisfied: frozenlist>=1.1.1 in e:\\project\\ai\\nl2sql-graph\\myenvs-graph\\lib\\site-packages (from aiohttp<4.0.0,>=3.8.6->llama-index-core<0.11.0,>=0.10.65->llama-index) (1.4.1)\n",
      "Requirement already satisfied: multidict<7.0,>=4.5 in e:\\project\\ai\\nl2sql-graph\\myenvs-graph\\lib\\site-packages (from aiohttp<4.0.0,>=3.8.6->llama-index-core<0.11.0,>=0.10.65->llama-index) (6.0.5)\n",
      "Requirement already satisfied: yarl<2.0,>=1.0 in e:\\project\\ai\\nl2sql-graph\\myenvs-graph\\lib\\site-packages (from aiohttp<4.0.0,>=3.8.6->llama-index-core<0.11.0,>=0.10.65->llama-index) (1.9.4)\n",
      "Requirement already satisfied: soupsieve>1.2 in e:\\project\\ai\\nl2sql-graph\\myenvs-graph\\lib\\site-packages (from beautifulsoup4<5.0.0,>=4.12.3->llama-index-readers-file<0.2.0,>=0.1.4->llama-index) (2.6)\n",
      "Requirement already satisfied: pyparsing!=3.0.0,!=3.0.1,!=3.0.2,!=3.0.3,<4,>=2.4.2 in e:\\project\\ai\\nl2sql-graph\\myenvs-graph\\lib\\site-packages (from httplib2>=0.20.0->nebula3-python<4.0.0,>=3.8.0->llama-index-graph-stores-nebula) (3.1.2)\n",
      "Requirement already satisfied: anyio in e:\\project\\ai\\nl2sql-graph\\myenvs-graph\\lib\\site-packages (from httpx->llama-index-core<0.11.0,>=0.10.65->llama-index) (4.4.0)\n",
      "Requirement already satisfied: httpcore==1.* in e:\\project\\ai\\nl2sql-graph\\myenvs-graph\\lib\\site-packages (from httpx->llama-index-core<0.11.0,>=0.10.65->llama-index) (1.0.5)\n",
      "Requirement already satisfied: sniffio in e:\\project\\ai\\nl2sql-graph\\myenvs-graph\\lib\\site-packages (from httpx->llama-index-core<0.11.0,>=0.10.65->llama-index) (1.3.1)\n",
      "Requirement already satisfied: h11<0.15,>=0.13 in e:\\project\\ai\\nl2sql-graph\\myenvs-graph\\lib\\site-packages (from httpcore==1.*->httpx->llama-index-core<0.11.0,>=0.10.65->llama-index) (0.14.0)\n",
      "Requirement already satisfied: h2<5,>=3 in e:\\project\\ai\\nl2sql-graph\\myenvs-graph\\lib\\site-packages (from httpx[http2]>=0.22.0->nebula3-python<4.0.0,>=3.8.0->llama-index-graph-stores-nebula) (4.1.0)\n",
      "Requirement already satisfied: decorator in e:\\project\\ai\\nl2sql-graph\\myenvs-graph\\lib\\site-packages (from ipython>=6.1.0->ipywidgets->jupyter-nebulagraph) (5.1.1)\n",
      "Requirement already satisfied: jedi>=0.16 in e:\\project\\ai\\nl2sql-graph\\myenvs-graph\\lib\\site-packages (from ipython>=6.1.0->ipywidgets->jupyter-nebulagraph) (0.19.1)\n",
      "Requirement already satisfied: matplotlib-inline in e:\\project\\ai\\nl2sql-graph\\myenvs-graph\\lib\\site-packages (from ipython>=6.1.0->ipywidgets->jupyter-nebulagraph) (0.1.7)\n",
      "Requirement already satisfied: prompt-toolkit<3.1.0,>=3.0.41 in e:\\project\\ai\\nl2sql-graph\\myenvs-graph\\lib\\site-packages (from ipython>=6.1.0->ipywidgets->jupyter-nebulagraph) (3.0.47)\n",
      "Requirement already satisfied: pygments>=2.4.0 in e:\\project\\ai\\nl2sql-graph\\myenvs-graph\\lib\\site-packages (from ipython>=6.1.0->ipywidgets->jupyter-nebulagraph) (2.18.0)\n",
      "Requirement already satisfied: stack-data in e:\\project\\ai\\nl2sql-graph\\myenvs-graph\\lib\\site-packages (from ipython>=6.1.0->ipywidgets->jupyter-nebulagraph) (0.6.3)\n",
      "Requirement already satisfied: click in e:\\project\\ai\\nl2sql-graph\\myenvs-graph\\lib\\site-packages (from nltk>=3.8.1->llama-index-core<0.11.0,>=0.10.65->llama-index) (8.1.7)\n",
      "Requirement already satisfied: joblib in e:\\project\\ai\\nl2sql-graph\\myenvs-graph\\lib\\site-packages (from nltk>=3.8.1->llama-index-core<0.11.0,>=0.10.65->llama-index) (1.4.2)\n",
      "Requirement already satisfied: regex>=2021.8.3 in e:\\project\\ai\\nl2sql-graph\\myenvs-graph\\lib\\site-packages (from nltk>=3.8.1->llama-index-core<0.11.0,>=0.10.65->llama-index) (2024.7.24)\n",
      "Requirement already satisfied: distro<2,>=1.7.0 in e:\\project\\ai\\nl2sql-graph\\myenvs-graph\\lib\\site-packages (from openai>=1.14.0->llama-index-agent-openai<0.3.0,>=0.1.4->llama-index) (1.9.0)\n",
      "Requirement already satisfied: jiter<1,>=0.4.0 in e:\\project\\ai\\nl2sql-graph\\myenvs-graph\\lib\\site-packages (from openai>=1.14.0->llama-index-agent-openai<0.3.0,>=0.1.4->llama-index) (0.5.0)\n",
      "Requirement already satisfied: greenlet!=0.4.17 in e:\\project\\ai\\nl2sql-graph\\myenvs-graph\\lib\\site-packages (from SQLAlchemy>=1.4.49->SQLAlchemy[asyncio]>=1.4.49->llama-index-core<0.11.0,>=0.10.65->llama-index) (3.0.3)\n",
      "Requirement already satisfied: mypy-extensions>=0.3.0 in e:\\project\\ai\\nl2sql-graph\\myenvs-graph\\lib\\site-packages (from typing-inspect>=0.8.0->llama-index-core<0.11.0,>=0.10.65->llama-index) (1.0.0)\n",
      "Requirement already satisfied: marshmallow<4.0.0,>=3.18.0 in e:\\project\\ai\\nl2sql-graph\\myenvs-graph\\lib\\site-packages (from dataclasses-json->llama-index-core<0.11.0,>=0.10.65->llama-index) (3.21.3)\n",
      "Requirement already satisfied: hyperframe<7,>=6.0 in e:\\project\\ai\\nl2sql-graph\\myenvs-graph\\lib\\site-packages (from h2<5,>=3->httpx[http2]>=0.22.0->nebula3-python<4.0.0,>=3.8.0->llama-index-graph-stores-nebula) (6.0.1)\n",
      "Requirement already satisfied: hpack<5,>=4.0 in e:\\project\\ai\\nl2sql-graph\\myenvs-graph\\lib\\site-packages (from h2<5,>=3->httpx[http2]>=0.22.0->nebula3-python<4.0.0,>=3.8.0->llama-index-graph-stores-nebula) (4.0.0)\n",
      "Requirement already satisfied: parso<0.9.0,>=0.8.3 in e:\\project\\ai\\nl2sql-graph\\myenvs-graph\\lib\\site-packages (from jedi>=0.16->ipython>=6.1.0->ipywidgets->jupyter-nebulagraph) (0.8.4)\n",
      "Requirement already satisfied: packaging>=17.0 in e:\\project\\ai\\nl2sql-graph\\myenvs-graph\\lib\\site-packages (from marshmallow<4.0.0,>=3.18.0->dataclasses-json->llama-index-core<0.11.0,>=0.10.65->llama-index) (24.1)\n",
      "Requirement already satisfied: wcwidth in e:\\project\\ai\\nl2sql-graph\\myenvs-graph\\lib\\site-packages (from prompt-toolkit<3.1.0,>=3.0.41->ipython>=6.1.0->ipywidgets->jupyter-nebulagraph) (0.2.13)\n",
      "Requirement already satisfied: executing>=1.2.0 in e:\\project\\ai\\nl2sql-graph\\myenvs-graph\\lib\\site-packages (from stack-data->ipython>=6.1.0->ipywidgets->jupyter-nebulagraph) (2.0.1)\n",
      "Requirement already satisfied: asttokens>=2.1.0 in e:\\project\\ai\\nl2sql-graph\\myenvs-graph\\lib\\site-packages (from stack-data->ipython>=6.1.0->ipywidgets->jupyter-nebulagraph) (2.4.1)\n",
      "Requirement already satisfied: pure-eval in e:\\project\\ai\\nl2sql-graph\\myenvs-graph\\lib\\site-packages (from stack-data->ipython>=6.1.0->ipywidgets->jupyter-nebulagraph) (0.2.3)\n",
      "Note: you may need to restart the kernel to use updated packages.\n"
     ]
    },
    {
     "name": "stderr",
     "output_type": "stream",
     "text": [
      "\n",
      "[notice] A new release of pip is available: 24.0 -> 24.2\n",
      "[notice] To update, run: python.exe -m pip install --upgrade pip\n"
     ]
    }
   ],
   "source": [
    "%pip install llama-index llama-index-graph-stores-nebula jupyter-nebulagraph nest_asyncio"
   ]
  },
  {
   "cell_type": "markdown",
   "metadata": {},
   "source": [
    "## Docker Setup\n",
    "\n",
    "To launch NebulaGraph locally, first ensure you have docker installed. Then, you can launch the database with the following docker command.\n",
    "\n",
    "```bash\n",
    "mkdir nebula-docker-compose\n",
    "cd nebula-docker-compose\n",
    "curl --output docker-compose.yaml https://raw.githubusercontent.com/vesoft-inc/nebula-docker-compose/master/docker-compose-lite.yaml\n",
    "docker compose up \n",
    "```\n",
    "\n",
    "After this, you are ready to create your first property graph!\n",
    "\n",
    "> Other options/details for deploying NebulaGraph can be found in the [docs](https://docs.nebula-graph.io/):\n",
    ">\n",
    "> - [ad-hoc cluster in Google Colab](https://docs.nebula-graph.io/master/4.deployment-and-installation/2.compile-and-install-nebula-graph/8.deploy-nebula-graph-with-lite/).\n",
    "> - [Docker Desktop Extension](https://docs.nebula-graph.io/master/2.quick-start/1.quick-start-workflow/).\n"
   ]
  },
  {
   "cell_type": "code",
   "execution_count": 1,
   "metadata": {},
   "outputs": [],
   "source": [
    "import os\n",
    "\n",
    "NEBULA_HOST = \"127.0.0.1\"\n",
    "NEBULA_PORT = 9669\n",
    "NEBULA_USER = \"root\"\n",
    "NEBULA_PASSWORD = \"nubela\"\n",
    "NEBULA_SPACE_NAME = \"example\"\n",
    "\n",
    "os.environ[\"NEBULA_USER\"] = NEBULA_USER\n",
    "os.environ[\"NEBULA_PASSWORD\"] = NEBULA_PASSWORD\n",
    "os.environ[\"NEBULA_ADDRESS\"] = f\"{NEBULA_HOST}:{NEBULA_PORT}\""
   ]
  },
  {
   "cell_type": "code",
   "execution_count": 2,
   "metadata": {},
   "outputs": [
    {
     "name": "stdout",
     "output_type": "stream",
     "text": [
      "\u001b[1;3;38;2;0;135;107m[OK] Connection Pool Created\u001b[0m\n"
     ]
    },
    {
     "data": {
      "text/html": [
       "<div>\n",
       "<style scoped>\n",
       "    .dataframe tbody tr th:only-of-type {\n",
       "        vertical-align: middle;\n",
       "    }\n",
       "\n",
       "    .dataframe tbody tr th {\n",
       "        vertical-align: top;\n",
       "    }\n",
       "\n",
       "    .dataframe thead th {\n",
       "        text-align: right;\n",
       "    }\n",
       "</style>\n",
       "<table border=\"1\" class=\"dataframe\">\n",
       "  <thead>\n",
       "    <tr style=\"text-align: right;\">\n",
       "      <th></th>\n",
       "    </tr>\n",
       "  </thead>\n",
       "  <tbody>\n",
       "  </tbody>\n",
       "</table>\n",
       "</div>"
      ],
      "text/plain": [
       "Empty DataFrame\n",
       "Columns: []\n",
       "Index: []"
      ]
     },
     "execution_count": 2,
     "metadata": {},
     "output_type": "execute_result"
    }
   ],
   "source": [
    "# load NebulaGraph Jupyter extension to enable %ngql magic\n",
    "%load_ext ngql\n",
    "\n",
    "# connect to NebulaGraph service\n",
    "%ngql --address $NEBULA_HOST --port $NEBULA_PORT --user $NEBULA_USER --password $NEBULA_PASSWORD\n",
    "\n",
    "# create a graph space(think of a Database Instance) named: example\n",
    "%ngql CREATE SPACE IF NOT EXISTS $NEBULA_SPACE_NAME(vid_type=FIXED_STRING(256));"
   ]
  },
  {
   "cell_type": "code",
   "execution_count": 3,
   "metadata": {},
   "outputs": [
    {
     "data": {
      "text/html": [
       "<div>\n",
       "<style scoped>\n",
       "    .dataframe tbody tr th:only-of-type {\n",
       "        vertical-align: middle;\n",
       "    }\n",
       "\n",
       "    .dataframe tbody tr th {\n",
       "        vertical-align: top;\n",
       "    }\n",
       "\n",
       "    .dataframe thead th {\n",
       "        text-align: right;\n",
       "    }\n",
       "</style>\n",
       "<table border=\"1\" class=\"dataframe\">\n",
       "  <thead>\n",
       "    <tr style=\"text-align: right;\">\n",
       "      <th></th>\n",
       "      <th>Name</th>\n",
       "    </tr>\n",
       "  </thead>\n",
       "  <tbody>\n",
       "    <tr>\n",
       "      <th>0</th>\n",
       "      <td>NL2SQL</td>\n",
       "    </tr>\n",
       "    <tr>\n",
       "      <th>1</th>\n",
       "      <td>example</td>\n",
       "    </tr>\n",
       "    <tr>\n",
       "      <th>2</th>\n",
       "      <td>phillies_rag</td>\n",
       "    </tr>\n",
       "  </tbody>\n",
       "</table>\n",
       "</div>"
      ],
      "text/plain": [
       "           Name\n",
       "0        NL2SQL\n",
       "1       example\n",
       "2  phillies_rag"
      ]
     },
     "execution_count": 3,
     "metadata": {},
     "output_type": "execute_result"
    }
   ],
   "source": [
    "%ngql SHOW SPACES;"
   ]
  },
  {
   "cell_type": "code",
   "execution_count": 8,
   "metadata": {},
   "outputs": [
    {
     "data": {
      "text/html": [
       "<div>\n",
       "<style scoped>\n",
       "    .dataframe tbody tr th:only-of-type {\n",
       "        vertical-align: middle;\n",
       "    }\n",
       "\n",
       "    .dataframe tbody tr th {\n",
       "        vertical-align: top;\n",
       "    }\n",
       "\n",
       "    .dataframe thead th {\n",
       "        text-align: right;\n",
       "    }\n",
       "</style>\n",
       "<table border=\"1\" class=\"dataframe\">\n",
       "  <thead>\n",
       "    <tr style=\"text-align: right;\">\n",
       "      <th></th>\n",
       "    </tr>\n",
       "  </thead>\n",
       "  <tbody>\n",
       "  </tbody>\n",
       "</table>\n",
       "</div>"
      ],
      "text/plain": [
       "Empty DataFrame\n",
       "Columns: []\n",
       "Index: []"
      ]
     },
     "execution_count": 8,
     "metadata": {},
     "output_type": "execute_result"
    }
   ],
   "source": [
    "# use the graph space, which is similar to \"use database\" in MySQL\n",
    "# The space was created in async way, so we need to wait for a while before using it, retry it if failed\n",
    "%ngql USE $NEBULA_SPACE_NAME;"
   ]
  },
  {
   "cell_type": "code",
   "execution_count": 9,
   "metadata": {},
   "outputs": [],
   "source": [
    "# entity name\n",
    "TAG_TABLE_NAME, TAG_COLUMN_NAME = \"table\", \"column\"\n",
    "\n",
    "# edge name\n",
    "EDGE_INCLUDE_NAME, EDGE_FOREIGN_NAME = \"include\", \"foreign_key\"\n",
    "\n",
    "# index name\n",
    "INDEX_TABLE_NAME, INDEX_COLUMN_NAME = \"table_index\", \"column_index\""
   ]
  },
  {
   "cell_type": "code",
   "execution_count": 10,
   "metadata": {},
   "outputs": [
    {
     "data": {
      "text/html": [
       "<div>\n",
       "<style scoped>\n",
       "    .dataframe tbody tr th:only-of-type {\n",
       "        vertical-align: middle;\n",
       "    }\n",
       "\n",
       "    .dataframe tbody tr th {\n",
       "        vertical-align: top;\n",
       "    }\n",
       "\n",
       "    .dataframe thead th {\n",
       "        text-align: right;\n",
       "    }\n",
       "</style>\n",
       "<table border=\"1\" class=\"dataframe\">\n",
       "  <thead>\n",
       "    <tr style=\"text-align: right;\">\n",
       "      <th></th>\n",
       "    </tr>\n",
       "  </thead>\n",
       "  <tbody>\n",
       "  </tbody>\n",
       "</table>\n",
       "</div>"
      ],
      "text/plain": [
       "Empty DataFrame\n",
       "Columns: []\n",
       "Index: []"
      ]
     },
     "execution_count": 10,
     "metadata": {},
     "output_type": "execute_result"
    }
   ],
   "source": [
    "# create tags\n",
    "%ngql CREATE TAG IF NOT EXISTS $TAG_TABLE_NAME(name string)\n",
    "%ngql CREATE TAG IF NOT EXISTS $TAG_COLUMN_NAME(name string)\n",
    "\n",
    "# create edges\n",
    "%ngql CREATE EDGE IF NOT EXISTS $EDGE_INCLUDE_NAME(label string)\n",
    "%ngql CREATE EDGE IF NOT EXISTS $EDGE_FOREIGN_NAME(label string)\n",
    "\n",
    "# create index\n",
    "%ngql CREATE TAG INDEX IF NOT EXISTS $INDEX_TABLE_NAME ON table(name(256))\n",
    "%ngql CREATE TAG INDEX IF NOT EXISTS $INDEX_COLUMN_NAME ON column(name(256))"
   ]
  },
  {
   "cell_type": "markdown",
   "metadata": {},
   "source": [
    "## Env Setup\n",
    "\n",
    "We need just a few environment setups to get started."
   ]
  },
  {
   "cell_type": "code",
   "execution_count": 11,
   "metadata": {},
   "outputs": [],
   "source": [
    "import nest_asyncio\n",
    "\n",
    "nest_asyncio.apply()"
   ]
  },
  {
   "cell_type": "code",
   "execution_count": 12,
   "metadata": {},
   "outputs": [],
   "source": [
    "import os\n",
    "\n",
    "os.environ[\"OPENAI_API_KEY\"] = \"sk-xxx\""
   ]
  },
  {
   "cell_type": "code",
   "execution_count": 13,
   "metadata": {},
   "outputs": [],
   "source": [
    "from llama_index.core import Settings\n",
    "from llama_index.llms.openai import OpenAI\n",
    "from llama_index.embeddings.openai import OpenAIEmbedding\n",
    "from llama_index.embeddings.huggingface import \n",
    "\n",
    "Settings.llm = OpenAI(\n",
    "    model=\"qwen\",\n",
    "    temperature=0.3,\n",
    "    api_base=\"https://xxx.com/v1/chat/completions\",\n",
    "    default_headers={\"csb-token\": \"xxx\"},\n",
    "    additional_kwargs={\"top_k\": 5},\n",
    ")\n",
    "Settings.embed_model = OpenAIEmbedding(model_name=\"text-embedding-3-small\")"
   ]
  },
  {
   "cell_type": "code",
   "execution_count": 14,
   "metadata": {},
   "outputs": [],
   "source": [
    "from llama_index.core.storage import StorageContext\n",
    "from llama_index.graph_stores.nebula import NebulaGraphStore\n",
    "\n",
    "tags = [TAG_TABLE_NAME, TAG_COLUMN_NAME]\n",
    "edge_types = [EDGE_INCLUDE_NAME, EDGE_FOREIGN_NAME]\n",
    "\n",
    "graph_store = NebulaGraphStore(\n",
    "    space_name=NEBULA_SPACE_NAME,\n",
    "    edge_types=edge_types,\n",
    "    rel_prop_names=[\"label\", \"label\"],\n",
    "    tags=tags,\n",
    "    tag_prop_names=[\"name\", \"name\"],\n",
    ")"
   ]
  },
  {
   "cell_type": "code",
   "execution_count": 15,
   "metadata": {},
   "outputs": [],
   "source": [
    "from llama_index.graph_stores.nebula import NebulaPropertyGraphStore\n",
    "\n",
    "property_graph_store = NebulaPropertyGraphStore(space=NEBULA_SPACE_NAME)"
   ]
  },
  {
   "cell_type": "code",
   "execution_count": 16,
   "metadata": {},
   "outputs": [
    {
     "name": "stdout",
     "output_type": "stream",
     "text": [
      "tables: \n",
      "cars_data\n",
      "car_names\n",
      "model_list\n",
      "car_makers\n",
      "--------------------\n",
      "foreign_keys: \n",
      "cars_data, id,  car_names,  model\n",
      "car_names,  model,  model_list,  model_id\n",
      "model_list,  model_id,  car_makers,  id\n"
     ]
    }
   ],
   "source": [
    "from llama_index.core import SimpleDirectoryReader\n",
    "\n",
    "documents = SimpleDirectoryReader(input_files=[\"data/all_tables.csv\", \"data/relation_ship.csv\"]).load_data()\n",
    "\n",
    "assert len(documents) == 2\n",
    "print(f\"tables: \\n{documents[0].get_content()}\")\n",
    "print(\"-\" * 20)\n",
    "print(f\"foreign_keys: \\n{documents[1].get_content()}\")"
   ]
  },
  {
   "cell_type": "code",
   "execution_count": 17,
   "metadata": {},
   "outputs": [
    {
     "data": {
      "application/vnd.jupyter.widget-view+json": {
       "model_id": "baad3ee996714cbc8a0b21c77b7530a2",
       "version_major": 2,
       "version_minor": 0
      },
      "text/plain": [
       "Parsing nodes:   0%|          | 0/2 [00:00<?, ?it/s]"
      ]
     },
     "metadata": {},
     "output_type": "display_data"
    },
    {
     "name": "stderr",
     "output_type": "stream",
     "text": [
      "Extracting triplets:   0%|          | 0/7 [00:00<?, ?it/s]"
     ]
    },
    {
     "name": "stdout",
     "output_type": "stream",
     "text": [
      "text: cars_data\n"
     ]
    },
    {
     "name": "stderr",
     "output_type": "stream",
     "text": [
      "Extracting triplets:  14%|█▍        | 1/7 [01:03<06:18, 63.15s/it]"
     ]
    },
    {
     "name": "stdout",
     "output_type": "stream",
     "text": [
      "text: car_names\n",
      "text: model_list\n",
      "text: car_makers\n",
      "text: cars_data, id,  car_names,  model\n",
      "t1: cars_data, c1: id, t2: car_names, c2: model\n"
     ]
    },
    {
     "name": "stderr",
     "output_type": "stream",
     "text": [
      "Extracting triplets:  71%|███████▏  | 5/7 [01:14<00:23, 11.90s/it]"
     ]
    },
    {
     "name": "stdout",
     "output_type": "stream",
     "text": [
      "text: car_names,  model,  model_list,  model_id\n",
      "t1: car_names, c1: model, t2: model_list, c2: model_id\n"
     ]
    },
    {
     "name": "stderr",
     "output_type": "stream",
     "text": [
      "Extracting triplets:  86%|████████▌ | 6/7 [01:17<00:09,  9.65s/it]"
     ]
    },
    {
     "name": "stdout",
     "output_type": "stream",
     "text": [
      "text: model_list,  model_id,  car_makers,  id\n",
      "t1: model_list, c1: model_id, t2: car_makers, c2: id\n"
     ]
    },
    {
     "name": "stderr",
     "output_type": "stream",
     "text": [
      "Extracting triplets: 100%|██████████| 7/7 [01:21<00:00, 11.70s/it]\n"
     ]
    },
    {
     "data": {
      "application/vnd.jupyter.widget-view+json": {
       "model_id": "d2d2596fd0bc4bf19290560c96342685",
       "version_major": 2,
       "version_minor": 0
      },
      "text/plain": [
       "Generating embeddings:   0%|          | 0/7 [00:00<?, ?it/s]"
      ]
     },
     "metadata": {},
     "output_type": "display_data"
    },
    {
     "data": {
      "application/vnd.jupyter.widget-view+json": {
       "model_id": "f76d444b62204205ad7a1813d578b634",
       "version_major": 2,
       "version_minor": 0
      },
      "text/plain": [
       "Generating embeddings:   0%|          | 0/42 [00:00<?, ?it/s]"
      ]
     },
     "metadata": {},
     "output_type": "display_data"
    }
   ],
   "source": [
    "from llama_index.core.indices import load_index_from_storage\n",
    "from llama_index.core.indices.property_graph import PropertyGraphIndex\n",
    "from transformation.triplet_extractor import CustomizeTripletExtractor\n",
    "from transformation.text_spliter import LineTextSpliter\n",
    "\n",
    "index_persist_dir = \"storage_graph\"\n",
    "\n",
    "try:\n",
    "    storage_context = StorageContext.from_defaults(persist_dir=index_persist_dir, graph_store=graph_store)\n",
    "    pg_index = load_index_from_storage(storage_context=storage_context, index_id=[INDEX_TABLE_NAME, INDEX_COLUMN_NAME])\n",
    "    index_loaded = True\n",
    "except:\n",
    "    index_loaded = False\n",
    "\n",
    "if not index_loaded:\n",
    "    storage_context = StorageContext.from_defaults(graph_store=graph_store, property_graph_store=property_graph_store)\n",
    "\n",
    "    pg_index = PropertyGraphIndex.from_documents(\n",
    "        documents=documents,\n",
    "        storage_context=storage_context,\n",
    "        show_progress=True,\n",
    "        use_async=False,\n",
    "        transformations=[LineTextSpliter()],\n",
    "        kg_extractors=[\n",
    "            CustomizeTripletExtractor(directory=\"data\", rel_column=EDGE_INCLUDE_NAME, rel_foreign_key=EDGE_FOREIGN_NAME)\n",
    "        ],\n",
    "    )\n",
    "\n",
    "    pg_index.storage_context.persist(persist_dir=index_persist_dir)"
   ]
  },
  {
   "cell_type": "markdown",
   "metadata": {},
   "source": [
    "Now that the graph is created, we can explore it with [jupyter-nebulagraph](https://github.com/wey-gu/jupyter_nebulagraph)"
   ]
  },
  {
   "cell_type": "code",
   "execution_count": 18,
   "metadata": {},
   "outputs": [
    {
     "data": {
      "text/html": [
       "<div>\n",
       "<style scoped>\n",
       "    .dataframe tbody tr th:only-of-type {\n",
       "        vertical-align: middle;\n",
       "    }\n",
       "\n",
       "    .dataframe tbody tr th {\n",
       "        vertical-align: top;\n",
       "    }\n",
       "\n",
       "    .dataframe thead th {\n",
       "        text-align: right;\n",
       "    }\n",
       "</style>\n",
       "<table border=\"1\" class=\"dataframe\">\n",
       "  <thead>\n",
       "    <tr style=\"text-align: right;\">\n",
       "      <th></th>\n",
       "      <th>Name</th>\n",
       "    </tr>\n",
       "  </thead>\n",
       "  <tbody>\n",
       "    <tr>\n",
       "      <th>0</th>\n",
       "      <td>Chunk__</td>\n",
       "    </tr>\n",
       "    <tr>\n",
       "      <th>1</th>\n",
       "      <td>Entity__</td>\n",
       "    </tr>\n",
       "    <tr>\n",
       "      <th>2</th>\n",
       "      <td>Node__</td>\n",
       "    </tr>\n",
       "    <tr>\n",
       "      <th>3</th>\n",
       "      <td>Props__</td>\n",
       "    </tr>\n",
       "    <tr>\n",
       "      <th>4</th>\n",
       "      <td>column</td>\n",
       "    </tr>\n",
       "    <tr>\n",
       "      <th>5</th>\n",
       "      <td>table</td>\n",
       "    </tr>\n",
       "  </tbody>\n",
       "</table>\n",
       "</div>"
      ],
      "text/plain": [
       "       Name\n",
       "0   Chunk__\n",
       "1  Entity__\n",
       "2    Node__\n",
       "3   Props__\n",
       "4    column\n",
       "5     table"
      ]
     },
     "execution_count": 18,
     "metadata": {},
     "output_type": "execute_result"
    }
   ],
   "source": [
    "%ngql SHOW TAGS"
   ]
  },
  {
   "cell_type": "code",
   "execution_count": 19,
   "metadata": {},
   "outputs": [
    {
     "data": {
      "text/html": [
       "<div>\n",
       "<style scoped>\n",
       "    .dataframe tbody tr th:only-of-type {\n",
       "        vertical-align: middle;\n",
       "    }\n",
       "\n",
       "    .dataframe tbody tr th {\n",
       "        vertical-align: top;\n",
       "    }\n",
       "\n",
       "    .dataframe thead th {\n",
       "        text-align: right;\n",
       "    }\n",
       "</style>\n",
       "<table border=\"1\" class=\"dataframe\">\n",
       "  <thead>\n",
       "    <tr style=\"text-align: right;\">\n",
       "      <th></th>\n",
       "      <th>Name</th>\n",
       "    </tr>\n",
       "  </thead>\n",
       "  <tbody>\n",
       "    <tr>\n",
       "      <th>0</th>\n",
       "      <td>Relation__</td>\n",
       "    </tr>\n",
       "    <tr>\n",
       "      <th>1</th>\n",
       "      <td>__meta__node_label__</td>\n",
       "    </tr>\n",
       "    <tr>\n",
       "      <th>2</th>\n",
       "      <td>__meta__rel_label__</td>\n",
       "    </tr>\n",
       "    <tr>\n",
       "      <th>3</th>\n",
       "      <td>foreign_key</td>\n",
       "    </tr>\n",
       "    <tr>\n",
       "      <th>4</th>\n",
       "      <td>include</td>\n",
       "    </tr>\n",
       "  </tbody>\n",
       "</table>\n",
       "</div>"
      ],
      "text/plain": [
       "                   Name\n",
       "0            Relation__\n",
       "1  __meta__node_label__\n",
       "2   __meta__rel_label__\n",
       "3           foreign_key\n",
       "4               include"
      ]
     },
     "execution_count": 19,
     "metadata": {},
     "output_type": "execute_result"
    }
   ],
   "source": [
    "%ngql SHOW EDGES"
   ]
  },
  {
   "cell_type": "code",
   "execution_count": 20,
   "metadata": {},
   "outputs": [
    {
     "data": {
      "text/html": [
       "<div>\n",
       "<style scoped>\n",
       "    .dataframe tbody tr th:only-of-type {\n",
       "        vertical-align: middle;\n",
       "    }\n",
       "\n",
       "    .dataframe tbody tr th {\n",
       "        vertical-align: top;\n",
       "    }\n",
       "\n",
       "    .dataframe thead th {\n",
       "        text-align: right;\n",
       "    }\n",
       "</style>\n",
       "<table border=\"1\" class=\"dataframe\">\n",
       "  <thead>\n",
       "    <tr style=\"text-align: right;\">\n",
       "      <th></th>\n",
       "      <th>src</th>\n",
       "      <th>relation</th>\n",
       "      <th>dest</th>\n",
       "    </tr>\n",
       "  </thead>\n",
       "  <tbody>\n",
       "    <tr>\n",
       "      <th>0</th>\n",
       "      <td>cars_data</td>\n",
       "      <td>include</td>\n",
       "      <td>cars_data::accelerate</td>\n",
       "    </tr>\n",
       "    <tr>\n",
       "      <th>1</th>\n",
       "      <td>cars_data</td>\n",
       "      <td>include</td>\n",
       "      <td>cars_data::cylinders</td>\n",
       "    </tr>\n",
       "    <tr>\n",
       "      <th>2</th>\n",
       "      <td>cars_data</td>\n",
       "      <td>include</td>\n",
       "      <td>cars_data::edispl</td>\n",
       "    </tr>\n",
       "    <tr>\n",
       "      <th>3</th>\n",
       "      <td>cars_data</td>\n",
       "      <td>include</td>\n",
       "      <td>cars_data::horsepower</td>\n",
       "    </tr>\n",
       "    <tr>\n",
       "      <th>4</th>\n",
       "      <td>cars_data</td>\n",
       "      <td>include</td>\n",
       "      <td>cars_data::id</td>\n",
       "    </tr>\n",
       "    <tr>\n",
       "      <th>5</th>\n",
       "      <td>cars_data</td>\n",
       "      <td>include</td>\n",
       "      <td>cars_data::mpg</td>\n",
       "    </tr>\n",
       "    <tr>\n",
       "      <th>6</th>\n",
       "      <td>cars_data</td>\n",
       "      <td>include</td>\n",
       "      <td>cars_data::weight</td>\n",
       "    </tr>\n",
       "    <tr>\n",
       "      <th>7</th>\n",
       "      <td>cars_data</td>\n",
       "      <td>include</td>\n",
       "      <td>cars_data::year</td>\n",
       "    </tr>\n",
       "    <tr>\n",
       "      <th>8</th>\n",
       "      <td>model_list::model_id</td>\n",
       "      <td>foreign_key</td>\n",
       "      <td>car_makers::id</td>\n",
       "    </tr>\n",
       "    <tr>\n",
       "      <th>9</th>\n",
       "      <td>car_names::model</td>\n",
       "      <td>foreign_key</td>\n",
       "      <td>model_list::model_id</td>\n",
       "    </tr>\n",
       "    <tr>\n",
       "      <th>10</th>\n",
       "      <td>car_makers</td>\n",
       "      <td>include</td>\n",
       "      <td>car_makers::country</td>\n",
       "    </tr>\n",
       "    <tr>\n",
       "      <th>11</th>\n",
       "      <td>car_makers</td>\n",
       "      <td>include</td>\n",
       "      <td>car_makers::full_name</td>\n",
       "    </tr>\n",
       "    <tr>\n",
       "      <th>12</th>\n",
       "      <td>car_makers</td>\n",
       "      <td>include</td>\n",
       "      <td>car_makers::id</td>\n",
       "    </tr>\n",
       "    <tr>\n",
       "      <th>13</th>\n",
       "      <td>car_makers</td>\n",
       "      <td>include</td>\n",
       "      <td>car_makers::maker</td>\n",
       "    </tr>\n",
       "    <tr>\n",
       "      <th>14</th>\n",
       "      <td>car_names</td>\n",
       "      <td>include</td>\n",
       "      <td>car_names::make</td>\n",
       "    </tr>\n",
       "  </tbody>\n",
       "</table>\n",
       "</div>"
      ],
      "text/plain": [
       "                     src     relation                   dest\n",
       "0              cars_data      include  cars_data::accelerate\n",
       "1              cars_data      include   cars_data::cylinders\n",
       "2              cars_data      include      cars_data::edispl\n",
       "3              cars_data      include  cars_data::horsepower\n",
       "4              cars_data      include          cars_data::id\n",
       "5              cars_data      include         cars_data::mpg\n",
       "6              cars_data      include      cars_data::weight\n",
       "7              cars_data      include        cars_data::year\n",
       "8   model_list::model_id  foreign_key         car_makers::id\n",
       "9       car_names::model  foreign_key   model_list::model_id\n",
       "10            car_makers      include    car_makers::country\n",
       "11            car_makers      include  car_makers::full_name\n",
       "12            car_makers      include         car_makers::id\n",
       "13            car_makers      include      car_makers::maker\n",
       "14             car_names      include        car_names::make"
      ]
     },
     "execution_count": 20,
     "metadata": {},
     "output_type": "execute_result"
    }
   ],
   "source": [
    "%ngql MATCH p=(v:Entity__)-[r]->(t:Entity__) RETURN v.Entity__.name AS src, r.label AS relation, t.Entity__.name AS dest LIMIT 15;"
   ]
  },
  {
   "cell_type": "code",
   "execution_count": 21,
   "metadata": {},
   "outputs": [
    {
     "data": {
      "text/html": [
       "<div>\n",
       "<style scoped>\n",
       "    .dataframe tbody tr th:only-of-type {\n",
       "        vertical-align: middle;\n",
       "    }\n",
       "\n",
       "    .dataframe tbody tr th {\n",
       "        vertical-align: top;\n",
       "    }\n",
       "\n",
       "    .dataframe thead th {\n",
       "        text-align: right;\n",
       "    }\n",
       "</style>\n",
       "<table border=\"1\" class=\"dataframe\">\n",
       "  <thead>\n",
       "    <tr style=\"text-align: right;\">\n",
       "      <th></th>\n",
       "      <th>p</th>\n",
       "    </tr>\n",
       "  </thead>\n",
       "  <tbody>\n",
       "    <tr>\n",
       "      <th>0</th>\n",
       "      <td>(\"cars_data\" :Node__{label: \"table\"} :Props__{_node_content: __NULL__, _node_type: __NULL__, creation_date: __NULL__, doc_id: __NULL__, document_id: __NULL__, file_name: __NULL__, file_path: __NULL__, file_size: __NULL__, file_type: __NULL__, last_modified_date: __NULL__, ref_doc_id: __NULL__, triplet_source_id: \"817a463b-4f21-4ddf-8ee9-4dc2a223700a\"} :Entity__{name: \"cars_data\"})-[:Relation__@0{label: \"include\", file_path: __NULL__, file_name: __NULL__, file_type: __NULL__, file_size: __NULL__, _node_type: __NULL__, creation_date: __NULL__, document_id: __NULL__, last_modified_date: __NULL__, doc_id: __NULL__, _node_content: __NULL__, ref_doc_id: __NULL__, triplet_source_id: \"817a463b-4f21-4ddf-8ee9-4dc2a223700a\"}]-&gt;(\"cars_data::accelerate\" :Node__{label: \"column\"} :Props__{_node_content: __NULL__, _node_type: __NULL__, creation_date: __NULL__, doc_id: __NULL__, document_id: __NULL__, file_name: __NULL__, file_path: __NULL__, file_size: __NULL__, file_type: __NULL__, last_modified_date: __NULL__, ref_doc_id: __NULL__, triplet_source_id: \"817a463b-4f21-4ddf-8ee9-4dc2a223700a\"} :Entity__{name: \"cars_data::accelerate\"})</td>\n",
       "    </tr>\n",
       "    <tr>\n",
       "      <th>1</th>\n",
       "      <td>(\"cars_data\" :Node__{label: \"table\"} :Props__{_node_content: __NULL__, _node_type: __NULL__, creation_date: __NULL__, doc_id: __NULL__, document_id: __NULL__, file_name: __NULL__, file_path: __NULL__, file_size: __NULL__, file_type: __NULL__, last_modified_date: __NULL__, ref_doc_id: __NULL__, triplet_source_id: \"817a463b-4f21-4ddf-8ee9-4dc2a223700a\"} :Entity__{name: \"cars_data\"})-[:Relation__@0{label: \"include\", file_path: __NULL__, file_name: __NULL__, file_type: __NULL__, file_size: __NULL__, _node_type: __NULL__, creation_date: __NULL__, document_id: __NULL__, last_modified_date: __NULL__, doc_id: __NULL__, _node_content: __NULL__, ref_doc_id: __NULL__, triplet_source_id: \"817a463b-4f21-4ddf-8ee9-4dc2a223700a\"}]-&gt;(\"cars_data::cylinders\" :Node__{label: \"column\"} :Props__{_node_content: __NULL__, _node_type: __NULL__, creation_date: __NULL__, doc_id: __NULL__, document_id: __NULL__, file_name: __NULL__, file_path: __NULL__, file_size: __NULL__, file_type: __NULL__, last_modified_date: __NULL__, ref_doc_id: __NULL__, triplet_source_id: \"817a463b-4f21-4ddf-8ee9-4dc2a223700a\"} :Entity__{name: \"cars_data::cylinders\"})</td>\n",
       "    </tr>\n",
       "  </tbody>\n",
       "</table>\n",
       "</div>"
      ],
      "text/plain": [
       "                                                                                                                                                                                                                                                                                                                                                                                                                                                                                                                                                                                                                                                                                                                                                                                                                                                                                                                                                                                                                                                                                                                                                                                 p\n",
       "0  (\"cars_data\" :Node__{label: \"table\"} :Props__{_node_content: __NULL__, _node_type: __NULL__, creation_date: __NULL__, doc_id: __NULL__, document_id: __NULL__, file_name: __NULL__, file_path: __NULL__, file_size: __NULL__, file_type: __NULL__, last_modified_date: __NULL__, ref_doc_id: __NULL__, triplet_source_id: \"817a463b-4f21-4ddf-8ee9-4dc2a223700a\"} :Entity__{name: \"cars_data\"})-[:Relation__@0{label: \"include\", file_path: __NULL__, file_name: __NULL__, file_type: __NULL__, file_size: __NULL__, _node_type: __NULL__, creation_date: __NULL__, document_id: __NULL__, last_modified_date: __NULL__, doc_id: __NULL__, _node_content: __NULL__, ref_doc_id: __NULL__, triplet_source_id: \"817a463b-4f21-4ddf-8ee9-4dc2a223700a\"}]->(\"cars_data::accelerate\" :Node__{label: \"column\"} :Props__{_node_content: __NULL__, _node_type: __NULL__, creation_date: __NULL__, doc_id: __NULL__, document_id: __NULL__, file_name: __NULL__, file_path: __NULL__, file_size: __NULL__, file_type: __NULL__, last_modified_date: __NULL__, ref_doc_id: __NULL__, triplet_source_id: \"817a463b-4f21-4ddf-8ee9-4dc2a223700a\"} :Entity__{name: \"cars_data::accelerate\"})\n",
       "1    (\"cars_data\" :Node__{label: \"table\"} :Props__{_node_content: __NULL__, _node_type: __NULL__, creation_date: __NULL__, doc_id: __NULL__, document_id: __NULL__, file_name: __NULL__, file_path: __NULL__, file_size: __NULL__, file_type: __NULL__, last_modified_date: __NULL__, ref_doc_id: __NULL__, triplet_source_id: \"817a463b-4f21-4ddf-8ee9-4dc2a223700a\"} :Entity__{name: \"cars_data\"})-[:Relation__@0{label: \"include\", file_path: __NULL__, file_name: __NULL__, file_type: __NULL__, file_size: __NULL__, _node_type: __NULL__, creation_date: __NULL__, document_id: __NULL__, last_modified_date: __NULL__, doc_id: __NULL__, _node_content: __NULL__, ref_doc_id: __NULL__, triplet_source_id: \"817a463b-4f21-4ddf-8ee9-4dc2a223700a\"}]->(\"cars_data::cylinders\" :Node__{label: \"column\"} :Props__{_node_content: __NULL__, _node_type: __NULL__, creation_date: __NULL__, doc_id: __NULL__, document_id: __NULL__, file_name: __NULL__, file_path: __NULL__, file_size: __NULL__, file_type: __NULL__, last_modified_date: __NULL__, ref_doc_id: __NULL__, triplet_source_id: \"817a463b-4f21-4ddf-8ee9-4dc2a223700a\"} :Entity__{name: \"cars_data::cylinders\"})"
      ]
     },
     "execution_count": 21,
     "metadata": {},
     "output_type": "execute_result"
    }
   ],
   "source": [
    "%ngql MATCH p=(v:Entity__)-[r]->(t:Entity__) RETURN p LIMIT 2;"
   ]
  },
  {
   "cell_type": "markdown",
   "metadata": {},
   "source": [
    "## Querying and Retrieval"
   ]
  },
  {
   "cell_type": "code",
   "execution_count": 22,
   "metadata": {},
   "outputs": [
    {
     "name": "stdout",
     "output_type": "stream",
     "text": [
      "cars_data::mpg ({'triplet_source_id': '817a463b-4f21-4ddf-8ee9-4dc2a223700a'}) -> include -> cars_data ({'triplet_source_id': '817a463b-4f21-4ddf-8ee9-4dc2a223700a'})\n",
      "cars_data::id ({'triplet_source_id': '05fee051-5cd2-46d3-b635-570f68b27bf0'}) -> include -> cars_data ({'triplet_source_id': '817a463b-4f21-4ddf-8ee9-4dc2a223700a'})\n",
      "cars_data ({'triplet_source_id': '817a463b-4f21-4ddf-8ee9-4dc2a223700a'}) -> include -> cars_data::accelerate ({'triplet_source_id': '817a463b-4f21-4ddf-8ee9-4dc2a223700a'})\n",
      "cars_data ({'triplet_source_id': '817a463b-4f21-4ddf-8ee9-4dc2a223700a'}) -> include -> cars_data::cylinders ({'triplet_source_id': '817a463b-4f21-4ddf-8ee9-4dc2a223700a'})\n",
      "cars_data ({'triplet_source_id': '817a463b-4f21-4ddf-8ee9-4dc2a223700a'}) -> include -> cars_data::edispl ({'triplet_source_id': '817a463b-4f21-4ddf-8ee9-4dc2a223700a'})\n",
      "cars_data ({'triplet_source_id': '817a463b-4f21-4ddf-8ee9-4dc2a223700a'}) -> include -> cars_data::horsepower ({'triplet_source_id': '817a463b-4f21-4ddf-8ee9-4dc2a223700a'})\n",
      "cars_data::year ({'triplet_source_id': '817a463b-4f21-4ddf-8ee9-4dc2a223700a'}) -> include -> cars_data ({'triplet_source_id': '817a463b-4f21-4ddf-8ee9-4dc2a223700a'})\n",
      "cars_data ({'triplet_source_id': '817a463b-4f21-4ddf-8ee9-4dc2a223700a'}) -> include -> cars_data::weight ({'triplet_source_id': '817a463b-4f21-4ddf-8ee9-4dc2a223700a'})\n",
      "cars_data::id ({'triplet_source_id': '05fee051-5cd2-46d3-b635-570f68b27bf0'}) -> foreign_key -> car_names::model ({'triplet_source_id': '87d649a1-532e-4438-93aa-c7324ed7ff2d'})\n"
     ]
    }
   ],
   "source": [
    "retriever = pg_index.as_retriever(\n",
    "    include_text=False,  # include source text in returned nodes, default True\n",
    ")\n",
    "\n",
    "nodes = retriever.retrieve(\"what property cars_data include\")\n",
    "\n",
    "for node in nodes:\n",
    "    print(node.text)"
   ]
  },
  {
   "cell_type": "code",
   "execution_count": 23,
   "metadata": {},
   "outputs": [
    {
     "name": "stdout",
     "output_type": "stream",
     "text": [
      "cars_data includes the following properties: mpg, accelerate, cylinders, edispl, horsepower, year, and weight.\n"
     ]
    }
   ],
   "source": [
    "query_engine = pg_index.as_query_engine(include_text=True)\n",
    "\n",
    "response = query_engine.query(\"what property cars_data include?\")\n",
    "\n",
    "print(str(response))"
   ]
  }
 ],
 "metadata": {
  "kernelspec": {
   "display_name": "Python 3 (ipykernel)",
   "language": "python",
   "name": "python3"
  },
  "language_info": {
   "codemirror_mode": {
    "name": "ipython",
    "version": 3
   },
   "file_extension": ".py",
   "mimetype": "text/x-python",
   "name": "python",
   "nbconvert_exporter": "python",
   "pygments_lexer": "ipython3",
   "version": "3.11.9"
  }
 },
 "nbformat": 4,
 "nbformat_minor": 4
}
